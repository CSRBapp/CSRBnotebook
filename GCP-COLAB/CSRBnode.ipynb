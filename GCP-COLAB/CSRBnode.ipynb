{
  "nbformat": 4,
  "nbformat_minor": 0,
  "metadata": {
    "colab": {
      "name": "GCP CSRBnotebok Node",
      "provenance": [],
      "collapsed_sections": [
        "CusDH0YKjcpb"
      ],
      "toc_visible": true
    },
    "kernelspec": {
      "name": "python3",
      "display_name": "Python 3"
    }
  },
  "cells": [
    {
      "cell_type": "markdown",
      "metadata": {
        "id": "GSmFuYfPNWPV",
        "colab_type": "text"
      },
      "source": [
        "---\n",
        "# **QuickStart**\n",
        "---\n",
        "## CSRB Node\n",
        "* Start CSRB by running Steps #A1-A3.\n",
        "\n",
        "## CSRBappNotHotdog Server\n",
        "* Start CSRB by running Steps #A1-A3.\n",
        "* Start CSRBappNothostdog Server by running Steps #B1 and #B2.\n",
        "\n",
        "## CSRBappNotHotdog Client\n",
        "* Start CSRB by running Steps #A1-A3.\n",
        "* Identify the NODEID of the CSRBappNotHostdog Server that will be used for the processing (see output of Step A1 of Server's Notebook).\n",
        "* Set the SERVERID in Step #B3 with the Server's NODEID.\n",
        "* Select one of the available Images or upload/set your own, in Step #B3.\n",
        "* Run Step #B3 and wait for the image recognition outcome.\n",
        "\n",
        "# NOTES\n",
        "* To run the CSRBnode Notebook in multiple instances, save a copy in Drive.\n",
        "\n",
        "<br>\n",
        "\n",
        "---\n",
        "---"
      ]
    },
    {
      "cell_type": "markdown",
      "metadata": {
        "id": "cjTP9OoFd8fS",
        "colab_type": "text"
      },
      "source": [
        "# CSRB INIT"
      ]
    },
    {
      "cell_type": "code",
      "metadata": {
        "id": "VIPnkrlPzXOw",
        "colab_type": "code",
        "cellView": "form",
        "colab": {}
      },
      "source": [
        "#@title Show NODEID (Step #A1)\n",
        "\n",
        "import os\n",
        "import hashlib\n",
        "\n",
        "#print(os.environ[\"HOSTNAME\"])\n",
        "NODEID = hashlib.md5(os.environ[\"HOSTNAME\"].encode('utf-8')).hexdigest().upper()\n",
        "print(\"NODEID: \" + NODEID)"
      ],
      "execution_count": null,
      "outputs": []
    },
    {
      "cell_type": "code",
      "metadata": {
        "id": "GSOLdvfad_WD",
        "colab_type": "code",
        "cellView": "form",
        "colab": {}
      },
      "source": [
        "#@title Clone CSRBnotebook (Step #A2)\n",
        "!git -C /content/ clone --recurse-submodules git://github.com/CSRBapp/CSRBnotebook.git"
      ],
      "execution_count": null,
      "outputs": []
    },
    {
      "cell_type": "code",
      "metadata": {
        "id": "6OTgLMsuiCAn",
        "colab_type": "code",
        "cellView": "form",
        "colab": {}
      },
      "source": [
        "#@title Update CSRBnotebook\n",
        "!git -C /content/CSRBnotebook pull --recurse-submodules"
      ],
      "execution_count": null,
      "outputs": []
    },
    {
      "cell_type": "markdown",
      "metadata": {
        "id": "1LLOz1pNmbMp",
        "colab_type": "text"
      },
      "source": [
        "# CSRB RUN\n"
      ]
    },
    {
      "cell_type": "code",
      "metadata": {
        "colab_type": "code",
        "id": "jFg23A7VPids",
        "cellView": "form",
        "colab": {}
      },
      "source": [
        "#@title Start CSRBvfsFUSE (Step #A3)\n",
        "\n",
        "import os\n",
        "import hashlib\n",
        "import psutil\n",
        "\n",
        "assert \"CSRBvfsFUSE\" not in (p.name() for p in psutil.process_iter()), (\"CSRBvfsFUSE is already running\")\n",
        "\n",
        "#print(os.environ[\"HOSTNAME\"])\n",
        "NODEID = hashlib.md5(os.environ[\"HOSTNAME\"].encode('utf-8')).hexdigest().upper()\n",
        "print(\"NODEID: \" + NODEID)\n",
        "\n",
        "ROUTERHOST = \"public.csrb.app\" #@param {type: \"string\"}\n",
        "ROUTERPORT = \"32450\" #@param {type: \"string\"}\n",
        "ROUTERINTERSPACEUSEC = \"300000\" #@param {type: \"string\"}\n",
        "CSRBNOTEBOOKROOT = \"/content/CSRBnotebook/\"\n",
        "global CSRBVFS\n",
        "CSRBVFS = \"/mnt/CSRB\" #@param {type: \"string\"}\n",
        "RUNBG = True #@param {type: \"boolean\"}\n",
        "\n",
        "print(\"Starting CSRBvfsFUSE \" + (\"in Background\" if RUNBG is True else \"in Foreground\"))\n",
        "\n",
        "!chmod a+x {CSRBNOTEBOOKROOT}/CSRBbin/UBUNTU-18.04/CSRBvfsFUSE\n",
        "!mkdir {CSRBVFS} 2> /dev/null\n",
        "!umount -f {CSRBVFS} 2> /dev/null\n",
        "\n",
        "os.system(CSRBNOTEBOOKROOT + \"/CSRBbin/UBUNTU-18.04/CSRBvfsFUSE -o \" \\\n",
        "\"nodev,allow_other,bindHost=0.0.0.0,bindPort=0,\" \\\n",
        "\"routerHost=\" + ROUTERHOST + \",routerPort=\" + ROUTERPORT + \",\" \\\n",
        "\"routerInterspaceUSEC=\" + ROUTERINTERSPACEUSEC + \",\" \\\n",
        "\"nodeCAcertificateFile=\" + CSRBNOTEBOOKROOT + \"/CSRBbin/CERTS/CA.nodes.csrb.crt,\" \\\n",
        "\"nodeCertificateFile=\" + CSRBNOTEBOOKROOT + \"/CSRBbin/CERTS/C9BAD58F23D5A6C095C0571512CD318D.nodes.csrb.pem,\" \\\n",
        "\"nodeID=\" + NODEID + \",storagePath=/mnt/CSRBSTORAGE/\" + NODEID + \"/ \" \\\n",
        "\"-f /mnt/CSRB\" + (\" &\" if RUNBG is True else \"\"))"
      ],
      "execution_count": null,
      "outputs": []
    },
    {
      "cell_type": "code",
      "metadata": {
        "id": "FyutyxaSkamr",
        "colab_type": "code",
        "cellView": "form",
        "colab": {}
      },
      "source": [
        "#@title Stop CSRBvfsFUSE\n",
        "\n",
        "!pidof CSRBvfsFUSE > /dev/null && kill -9 `pidof CSRBvfsFUSE`\n",
        "!umount -f {CSRBVFS} > /dev/null"
      ],
      "execution_count": null,
      "outputs": []
    },
    {
      "cell_type": "markdown",
      "metadata": {
        "id": "CusDH0YKjcpb",
        "colab_type": "text"
      },
      "source": [
        "# MISC"
      ]
    },
    {
      "cell_type": "code",
      "metadata": {
        "id": "nCJj7M7dng7j",
        "colab_type": "code",
        "colab": {}
      },
      "source": [
        "!ls -l {CSRBVFS}"
      ],
      "execution_count": null,
      "outputs": []
    },
    {
      "cell_type": "code",
      "metadata": {
        "id": "HN_cyvWh1J38",
        "colab_type": "code",
        "colab": {}
      },
      "source": [
        "!ps -awux | grep CSRBvfsFUSE"
      ],
      "execution_count": null,
      "outputs": []
    },
    {
      "cell_type": "markdown",
      "metadata": {
        "id": "x9l4AHQuDpt5",
        "colab_type": "text"
      },
      "source": [
        "# CSRBappNotHotdog"
      ]
    },
    {
      "cell_type": "markdown",
      "metadata": {
        "id": "YU74qbO_GCG-",
        "colab_type": "text"
      },
      "source": [
        "## INIT"
      ]
    },
    {
      "cell_type": "code",
      "metadata": {
        "id": "KQ1Y8ZVNGDHa",
        "colab_type": "code",
        "cellView": "form",
        "colab": {}
      },
      "source": [
        "#@title Clone CSRBappNotHostdogServer (Step #B1)\n",
        "!git -C /content/ clone --recurse-submodules https://github.com/CSRBapp/CSRBappNotHotdogServer.git"
      ],
      "execution_count": null,
      "outputs": []
    },
    {
      "cell_type": "code",
      "metadata": {
        "id": "jn1q8aRXBlsB",
        "colab_type": "code",
        "cellView": "form",
        "colab": {}
      },
      "source": [
        "#@title Update CSRBappNotHotdogServer\n",
        "!git -C /content/CSRBappNotHotdogServer pull --recurse-submodules"
      ],
      "execution_count": null,
      "outputs": []
    },
    {
      "cell_type": "code",
      "metadata": {
        "id": "UjzlH9kLFdau",
        "colab_type": "code",
        "cellView": "form",
        "colab": {}
      },
      "source": [
        "#@title Diff CSRBappNotHotdogServer\n",
        "!git -C /content/CSRBappNotHotdogServer diff --submodule=diff"
      ],
      "execution_count": null,
      "outputs": []
    },
    {
      "cell_type": "markdown",
      "metadata": {
        "id": "ME9A33gcDv0-",
        "colab_type": "text"
      },
      "source": [
        "## RUN Server"
      ]
    },
    {
      "cell_type": "code",
      "metadata": {
        "id": "CfbmjDbQDy-R",
        "colab_type": "code",
        "cellView": "form",
        "colab": {}
      },
      "source": [
        "#@title Start CSRBappNotHotdog Server (Step #B2)\n",
        "\n",
        "os.chdir(\"/content/CSRBappNotHotdogServer/\")\n",
        "os.environ[\"CSRBVFS\"] = CSRBVFS\n",
        "%run CSRBappNotHotdog.py"
      ],
      "execution_count": null,
      "outputs": []
    },
    {
      "cell_type": "markdown",
      "metadata": {
        "id": "LOwJRO26qTRM",
        "colab_type": "text"
      },
      "source": [
        "## RUN Client"
      ]
    },
    {
      "cell_type": "code",
      "metadata": {
        "id": "axWqHDSCqxL7",
        "colab_type": "code",
        "cellView": "form",
        "colab": {}
      },
      "source": [
        "#@title Run CSRBappNotHotdog Client (Step #B3)\n",
        "\n",
        "os.chdir(\"/content/CSRBappNotHotdogServer/\")\n",
        "os.environ[\"CSRBVFS\"] = CSRBVFS\n",
        "\n",
        "if 'NODEID' not in globals():\n",
        "  raise ValueError(\"NODEID not set. Run the NODEID cell first.\")\n",
        "  \n",
        "SERVERID = \"\" #@param [\"00000000000000000000000000000000\"] {allow-input: true}\n",
        "IMAGE = \"\" #@param [\"/content/CSRBappNotHotdogServer/hotdog-or-not-hotdog/test/hotdog.jpg\", \"/content/CSRBappNotHotdogServer/hotdog-or-not-hotdog/test/bottle.jpg\", \"/content/CSRBappNotHotdogServer/hotdog-or-not-hotdog/test/hot2.jpg\", \"/content/CSRBappNotHotdogServer/hotdog-or-not-hotdog/test/wallpaper.jpg\"] {allow-input: true}\n",
        "\n",
        "%run CSRBappNotHotdogClient.py $NODEID $SERVERID $IMAGE"
      ],
      "execution_count": null,
      "outputs": []
    }
  ]
}