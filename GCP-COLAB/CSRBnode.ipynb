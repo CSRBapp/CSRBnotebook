{
  "nbformat": 4,
  "nbformat_minor": 0,
  "metadata": {
    "colab": {
      "name": "GCP CSRBnotebok Node",
      "provenance": [],
      "collapsed_sections": [
        "CusDH0YKjcpb"
      ],
      "toc_visible": true
    },
    "kernelspec": {
      "name": "python3",
      "display_name": "Python 3"
    }
  },
  "cells": [
    {
      "cell_type": "code",
      "metadata": {
        "id": "VIPnkrlPzXOw",
        "colab_type": "code",
        "cellView": "form",
        "colab": {}
      },
      "source": [
        "#@title NODEID\n",
        "\n",
        "import os\n",
        "import hashlib\n",
        "\n",
        "#print(os.environ[\"HOSTNAME\"])\n",
        "NODEID = hashlib.md5(os.environ[\"HOSTNAME\"].encode('utf-8')).hexdigest().upper()\n",
        "print(\"NODEID: \" + NODEID)"
      ],
      "execution_count": null,
      "outputs": []
    },
    {
      "cell_type": "markdown",
      "metadata": {
        "id": "cjTP9OoFd8fS",
        "colab_type": "text"
      },
      "source": [
        "# INIT"
      ]
    },
    {
      "cell_type": "code",
      "metadata": {
        "id": "GSOLdvfad_WD",
        "colab_type": "code",
        "cellView": "form",
        "colab": {}
      },
      "source": [
        "#@title Fetch CSRBnotebook GIT\n",
        "!git -C /content/ clone --recurse-submodules git://github.com/CSRBapp/CSRBnotebook.git"
      ],
      "execution_count": null,
      "outputs": []
    },
    {
      "cell_type": "code",
      "metadata": {
        "id": "6OTgLMsuiCAn",
        "colab_type": "code",
        "cellView": "form",
        "colab": {}
      },
      "source": [
        "#@title Update CSRBnotebook GIT\n",
        "!git -C /content/CSRBnotebook pull"
      ],
      "execution_count": null,
      "outputs": []
    },
    {
      "cell_type": "markdown",
      "metadata": {
        "id": "1LLOz1pNmbMp",
        "colab_type": "text"
      },
      "source": [
        "# START\n"
      ]
    },
    {
      "cell_type": "code",
      "metadata": {
        "colab_type": "code",
        "id": "jFg23A7VPids",
        "cellView": "form",
        "colab": {}
      },
      "source": [
        "#@title Start CSRBvfsFUSE\n",
        "\n",
        "import os\n",
        "import hashlib\n",
        "\n",
        "#print(os.environ[\"HOSTNAME\"])\n",
        "NODEID = hashlib.md5(os.environ[\"HOSTNAME\"].encode('utf-8')).hexdigest().upper()\n",
        "print(\"NODEID: \" + NODEID)\n",
        "\n",
        "ROUTERHOST = \"35.176.200.197\" #@param {type: \"string\"}\n",
        "ROUTERPORT = 32450 #@param {type: \"number\"}\n",
        "ROUTERINTERSPACEUSEC = 200000 #@param {type: \"number\"}\n",
        "CSRBNOTEBOOKROOT = \"/content/CSRBnotebook/\"\n",
        "\n",
        "!chmod a+x {CSRBNOTEBOOKROOT}/CSRBbin/UBUNTU-18.04/CSRBvfsFUSE\n",
        "!mkdir /mnt/CSRB\n",
        "!{CSRBNOTEBOOKROOT}/CSRBbin/UBUNTU-18.04/CSRBvfsFUSE -o nodev,allow_other,bindHost=0.0.0.0,\\\n",
        "bindPort=0,routerHost={ROUTERHOST},routerPort={ROUTERPORT},routerInterspaceUSEC={ROUTERINTERSPACEUSEC},\\\n",
        "nodeCAcertificateFile={CSRBNOTEBOOKROOT}/CSRBbin/CERTS/CA.nodes.csrb.crt,\\\n",
        "nodeCertificateFile={CSRBNOTEBOOKROOT}/CSRBbin/CERTS/C9BAD58F23D5A6C095C0571512CD318D.nodes.csrb.pem,\\\n",
        "nodeID={NODEID},storagePath=/mnt/CSRBSTORAGE/{NODEID}/ \\\n",
        "-f /mnt/CSRB &"
      ],
      "execution_count": null,
      "outputs": []
    },
    {
      "cell_type": "markdown",
      "metadata": {
        "id": "CusDH0YKjcpb",
        "colab_type": "text"
      },
      "source": [
        "# UTILITIES"
      ]
    },
    {
      "cell_type": "code",
      "metadata": {
        "id": "HN_cyvWh1J38",
        "colab_type": "code",
        "colab": {}
      },
      "source": [
        "!ps -awux | grep CSRBvfsFUSE"
      ],
      "execution_count": null,
      "outputs": []
    },
    {
      "cell_type": "code",
      "metadata": {
        "id": "FyutyxaSkamr",
        "colab_type": "code",
        "colab": {}
      },
      "source": [
        "!kill -9 `pidof CSRBvfsFUSE`\n",
        "!umount -f /mnt/CSRB"
      ],
      "execution_count": null,
      "outputs": []
    }
  ]
}